{
 "cells": [
  {
   "cell_type": "markdown",
   "id": "6b8f4e31-ab9a-4e92-ad25-9b9e5ae5ce37",
   "metadata": {},
   "source": [
    "# EXPERIMENT 4 - Data Wrangling and Data Visualization"
   ]
  },
  {
   "cell_type": "markdown",
   "id": "56ab0577-34b6-4936-a6a0-4f2e7053b25b",
   "metadata": {},
   "source": [
    "### ECE BOARD EXAM PROBLEM:"
   ]
  },
  {
   "cell_type": "markdown",
   "id": "bff25a7e-3a29-4307-8584-a577ed291499",
   "metadata": {},
   "source": [
    "#### Using data wrangling and data visualization technique with storytelling, analyze the data and present different (i) data frames; and (ii) visuals using the dataset given."
   ]
  },
  {
   "cell_type": "code",
   "execution_count": 226,
   "id": "8a99a650-e526-43a9-b47e-ab87f4695e13",
   "metadata": {},
   "outputs": [],
   "source": [
    "#Import panda library\n",
    "import pandas as pd\n",
    "\n",
    "#Import matplotlib's plotting framework library\n",
    "import matplotlib.pyplot as plt\n",
    "\n",
    "#Reading and loading csv file into a data frame\n",
    "df = pd.read_csv('board2.csv')"
   ]
  },
  {
   "cell_type": "markdown",
   "id": "3cc3725c-77a1-474b-bebb-22fd5f0341a8",
   "metadata": {},
   "source": [
    "### PROBLEM 1:"
   ]
  },
  {
   "cell_type": "markdown",
   "id": "bdd3cf52-4183-4c7c-94ad-87fb76da14bd",
   "metadata": {},
   "source": [
    "#### a. Filename: Instru = [“Name”, “GEAS”, “Electronics >70”]; where track is constant as Instrumentation and hometown Luzon"
   ]
  },
  {
   "cell_type": "code",
   "execution_count": 230,
   "id": "e4847410-c917-494d-bec9-03bb04516317",
   "metadata": {},
   "outputs": [
    {
     "data": {
      "text/html": [
       "<div>\n",
       "<style scoped>\n",
       "    .dataframe tbody tr th:only-of-type {\n",
       "        vertical-align: middle;\n",
       "    }\n",
       "\n",
       "    .dataframe tbody tr th {\n",
       "        vertical-align: top;\n",
       "    }\n",
       "\n",
       "    .dataframe thead th {\n",
       "        text-align: right;\n",
       "    }\n",
       "</style>\n",
       "<table border=\"1\" class=\"dataframe\">\n",
       "  <thead>\n",
       "    <tr style=\"text-align: right;\">\n",
       "      <th></th>\n",
       "      <th>Name</th>\n",
       "      <th>GEAS</th>\n",
       "      <th>Electronics</th>\n",
       "    </tr>\n",
       "  </thead>\n",
       "  <tbody>\n",
       "    <tr>\n",
       "      <th>0</th>\n",
       "      <td>S1</td>\n",
       "      <td>75</td>\n",
       "      <td>89</td>\n",
       "    </tr>\n",
       "    <tr>\n",
       "      <th>7</th>\n",
       "      <td>S8</td>\n",
       "      <td>64</td>\n",
       "      <td>81</td>\n",
       "    </tr>\n",
       "    <tr>\n",
       "      <th>29</th>\n",
       "      <td>S30</td>\n",
       "      <td>57</td>\n",
       "      <td>81</td>\n",
       "    </tr>\n",
       "  </tbody>\n",
       "</table>\n",
       "</div>"
      ],
      "text/plain": [
       "   Name  GEAS  Electronics\n",
       "0    S1    75           89\n",
       "7    S8    64           81\n",
       "29  S30    57           81"
      ]
     },
     "execution_count": 230,
     "metadata": {},
     "output_type": "execute_result"
    }
   ],
   "source": [
    "#Show data in which track is contant Instrumentation, Hometown is constant Luzon, and Electronics grade is >70, then show Name, GEAS, and Electronics.\n",
    "Instru = df[(df['Track'] == 'Instrumentation') & (df['Hometown'] == 'Luzon') & (df['Electronics'] > 70)][['Name', 'GEAS', 'Electronics']]\n",
    "Instru"
   ]
  },
  {
   "cell_type": "code",
   "execution_count": 253,
   "id": "c3263595-0fc3-4262-861e-2e0771510cd7",
   "metadata": {},
   "outputs": [
    {
     "data": {
      "text/plain": [
       "<Axes: xlabel='Name'>"
      ]
     },
     "execution_count": 253,
     "metadata": {},
     "output_type": "execute_result"
    },
    {
     "data": {
      "image/png": "[encoded data removed]",
      "text/plain": [
       "<Figure size 640x480 with 1 Axes>"
      ]
     },
     "metadata": {},
     "output_type": "display_data"
    }
   ],
   "source": [
    "Instru.plot.bar(x='Name')"
   ]
  },
  {
   "cell_type": "markdown",
   "id": "0ec67261-6604-47a1-a6cb-6b23d7e32072",
   "metadata": {},
   "source": [
    "#### b. Filename: Mindy = [ “Name”, “Track”, “Electronics”, “Average >=55”]; where hometown is constant as Mindanao and gender Female"
   ]
  },
  {
   "cell_type": "code",
   "execution_count": 235,
   "id": "855585a6-55ac-40e2-b709-1d0af232bbf6",
   "metadata": {},
   "outputs": [
    {
     "data": {
      "text/html": [
       "<div>\n",
       "<style scoped>\n",
       "    .dataframe tbody tr th:only-of-type {\n",
       "        vertical-align: middle;\n",
       "    }\n",
       "\n",
       "    .dataframe tbody tr th {\n",
       "        vertical-align: top;\n",
       "    }\n",
       "\n",
       "    .dataframe thead th {\n",
       "        text-align: right;\n",
       "    }\n",
       "</style>\n",
       "<table border=\"1\" class=\"dataframe\">\n",
       "  <thead>\n",
       "    <tr style=\"text-align: right;\">\n",
       "      <th></th>\n",
       "      <th>Name</th>\n",
       "      <th>Track</th>\n",
       "      <th>Electronics</th>\n",
       "      <th>Average</th>\n",
       "    </tr>\n",
       "  </thead>\n",
       "  <tbody>\n",
       "    <tr>\n",
       "      <th>1</th>\n",
       "      <td>S2</td>\n",
       "      <td>Communication</td>\n",
       "      <td>75</td>\n",
       "      <td>67.25</td>\n",
       "    </tr>\n",
       "    <tr>\n",
       "      <th>2</th>\n",
       "      <td>S3</td>\n",
       "      <td>Instrumentation</td>\n",
       "      <td>74</td>\n",
       "      <td>72.75</td>\n",
       "    </tr>\n",
       "    <tr>\n",
       "      <th>14</th>\n",
       "      <td>S15</td>\n",
       "      <td>Microelectronics</td>\n",
       "      <td>41</td>\n",
       "      <td>59.00</td>\n",
       "    </tr>\n",
       "    <tr>\n",
       "      <th>16</th>\n",
       "      <td>S17</td>\n",
       "      <td>Microelectronics</td>\n",
       "      <td>79</td>\n",
       "      <td>70.50</td>\n",
       "    </tr>\n",
       "    <tr>\n",
       "      <th>19</th>\n",
       "      <td>S20</td>\n",
       "      <td>Communication</td>\n",
       "      <td>60</td>\n",
       "      <td>66.50</td>\n",
       "    </tr>\n",
       "  </tbody>\n",
       "</table>\n",
       "</div>"
      ],
      "text/plain": [
       "   Name             Track  Electronics  Average\n",
       "1    S2     Communication           75    67.25\n",
       "2    S3   Instrumentation           74    72.75\n",
       "14  S15  Microelectronics           41    59.00\n",
       "16  S17  Microelectronics           79    70.50\n",
       "19  S20     Communication           60    66.50"
      ]
     },
     "execution_count": 235,
     "metadata": {},
     "output_type": "execute_result"
    }
   ],
   "source": [
    "#Create a column named \"Average\" in which averages the grades of Math, Electronics, GEAS, and Communication.\n",
    "df['Average'] = df[['Math', 'Electronics', 'GEAS', 'Communication']].mean(axis=1)\n",
    "\n",
    "#Show the data that have Average>=55, show Name, Track, Electornics, and Average.\n",
    "Mindy = df[(df['Hometown'] == 'Mindanao') & (df['Gender'] == 'Female') & (df['Average'] >= 55)][['Name', 'Track', 'Electronics', 'Average']]\n",
    "Mindy"
   ]
  },
  {
   "cell_type": "code",
   "execution_count": 251,
   "id": "fd5ce3f8-f23f-4f2f-be2b-cf7f3a933a22",
   "metadata": {},
   "outputs": [
    {
     "data": {
      "text/plain": [
       "<Axes: xlabel='Name'>"
      ]
     },
     "execution_count": 251,
     "metadata": {},
     "output_type": "execute_result"
    },
    {
     "data": {
      "image/png": "[encoded data removed]",
      "text/plain": [
       "<Figure size 640x480 with 1 Axes>"
      ]
     },
     "metadata": {},
     "output_type": "display_data"
    }
   ],
   "source": [
    "Mindy.plot.bar(x='Name')"
   ]
  },
  {
   "cell_type": "markdown",
   "id": "f61ed7ae-692e-49f3-be18-62fde80271c1",
   "metadata": {},
   "source": [
    "### PROBLEM 2:"
   ]
  },
  {
   "cell_type": "markdown",
   "id": "5fb51b32-ef89-4e44-8855-85566706c62a",
   "metadata": {},
   "source": [
    "#### Create a visualization that shows how the different features contributes to average grade."
   ]
  },
  {
   "cell_type": "code",
   "execution_count": 319,
   "id": "9e181299-e7af-403f-b263-ac75d8d03ac5",
   "metadata": {},
   "outputs": [
    {
     "data": {
      "image/png": "[encoded data removed]",
      "text/plain": [
       "<Figure size 1200x600 with 1 Axes>"
      ]
     },
     "metadata": {},
     "output_type": "display_data"
    }
   ],
   "source": [
    "# Grouping by Gender, Track, and Hometown and calculating the average score for each category\n",
    "gender_avg = df.groupby('Gender')['Average'].mean()\n",
    "track_avg = df.groupby('Track')['Average'].mean()\n",
    "hometown_avg = df.groupby('Hometown')['Average'].mean()\n",
    "\n",
    "#Resize Bar Graph\n",
    "plt.figure(figsize=(12, 6))\n",
    "\n",
    "bars = plt.bar(['Male', 'Female', 'Instrumentation', 'Communication', 'Microelectronic', 'Luzon', 'Visayas', 'Mindanao'], list(gender_avg.values)+list(track_avg.values)+list(hometown_avg.values))\n",
    "\n",
    "# Adding labels and title\n",
    "plt.xlabel('Categories')\n",
    "plt.ylabel('Average Score')\n",
    "plt.title('Combined Bar Graph for Gender, Track, and Hometown')\n",
    "\n",
    "# Show the plot\n",
    "plt.tight_layout()\n",
    "plt.show()"
   ]
  },
  {
   "cell_type": "markdown",
   "id": "a13c552d-fd79-4fc5-be54-d85aa0bc63ad",
   "metadata": {},
   "source": [
    "#### Does chosen track in college, gender, or hometown contributes to a higher average score?"
   ]
  },
  {
   "cell_type": "markdown",
   "id": "dfb155be-da38-40ac-9128-6f85ea4ed7be",
   "metadata": {},
   "source": [
    "No, there is no correlation in chosen track, gender, or hometown to have a higher average score. As the bar graph stated, there is no significant differences in the data categories."
   ]
  },
  {
   "cell_type": "code",
   "execution_count": null,
   "id": "1ff824cf-d2ff-4c82-b0d5-6318e94f4d40",
   "metadata": {},
   "outputs": [],
   "source": []
  }
 ],
 "metadata": {
  "kernelspec": {
   "display_name": "Python 3 (ipykernel)",
   "language": "python",
   "name": "python3"
  },
  "language_info": {
   "codemirror_mode": {
    "name": "ipython",
    "version": 3
   },
   "file_extension": ".py",
   "mimetype": "text/x-python",
   "name": "python",
   "nbconvert_exporter": "python",
   "pygments_lexer": "ipython3",
   "version": "3.12.4"
  }
 },
 "nbformat": 4,
 "nbformat_minor": 5
}
